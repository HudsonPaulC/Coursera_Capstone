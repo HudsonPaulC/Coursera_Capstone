{
 "cells": [
  {
   "cell_type": "markdown",
   "metadata": {},
   "source": [
    "# Week 3 Section 2"
   ]
  },
  {
   "cell_type": "markdown",
   "metadata": {},
   "source": [
    "## Import the necessary libraries"
   ]
  },
  {
   "cell_type": "code",
   "execution_count": 29,
   "metadata": {},
   "outputs": [],
   "source": [
    "import pandas as pd \n",
    "import requests"
   ]
  },
  {
   "cell_type": "markdown",
   "metadata": {},
   "source": [
    "Now use the requests to get the HTML for the Canada postal codes"
   ]
  },
  {
   "cell_type": "code",
   "execution_count": 30,
   "metadata": {},
   "outputs": [],
   "source": [
    "url = requests.get(\"https://en.wikipedia.org/wiki/List_of_postal_codes_of_Canada:_M\")\n",
    "htmltext = url.text\n",
    "# print(htmltext)"
   ]
  },
  {
   "cell_type": "markdown",
   "metadata": {},
   "source": [
    "Using Beautiful Soup it allows use to find the table that contains the \n",
    "postal code."
   ]
  },
  {
   "cell_type": "code",
   "execution_count": 31,
   "metadata": {},
   "outputs": [],
   "source": [
    "from bs4 import BeautifulSoup\n",
    "import bs4\n",
    "\n",
    "soup = bs4.BeautifulSoup(htmltext, 'lxml')\n",
    "table = soup.find('table','wikitable sortable')\n",
    "#print (table)"
   ]
  },
  {
   "cell_type": "markdown",
   "metadata": {},
   "source": [
    "   Now we need to parse the table into columns and store in the dataframe"
   ]
  },
  {
   "cell_type": "code",
   "execution_count": 32,
   "metadata": {},
   "outputs": [
    {
     "name": "stdout",
     "output_type": "stream",
     "text": [
      "['Postcode', 'Borough', 'Neighbourhood']\n"
     ]
    }
   ],
   "source": [
    "            n_columns = 0\n",
    "            n_rows=0\n",
    "            column_names = []\n",
    "    \n",
    "            # Find number of rows and columns\n",
    "            # we also find the column titles if we can\n",
    "            for row in table.find_all('tr'):\n",
    "                \n",
    "                # Determine the number of rows in the table\n",
    "                td_tags = row.find_all('td')\n",
    "                if len(td_tags) > 0:\n",
    "                    n_rows+=1\n",
    "                    if n_columns == 0:\n",
    "                        # Set the number of columns for our table\n",
    "                        n_columns = len(td_tags)\n",
    "                        \n",
    "                # Handle column names if we find them\n",
    "                th_tags = row.find_all('th') \n",
    "                if len(th_tags) > 0 and len(column_names) == 0:\n",
    "                    for th in th_tags:\n",
    "                        column_names.append(th.get_text().replace('\\n', ''))\n",
    "    \n",
    "            # Safeguard on Column Titles\n",
    "            if len(column_names) > 0 and len(column_names) != n_columns:\n",
    "                raise Exception(\"Column titles do not match the number of columns\")\n",
    "            print (column_names)\n",
    "            columns = column_names if len(column_names) > 0 else range(0,n_columns)\n",
    "            df = pd.DataFrame(columns = columns,\n",
    "                              index= range(0,n_rows))\n",
    "            row_marker = 0\n",
    "            for row in table.find_all('tr'):\n",
    "                column_marker = 0\n",
    "                columns = row.find_all('td')\n",
    "                for column in columns:\n",
    "                    df.iat[row_marker,column_marker] = column.get_text()\n",
    "                    column_marker += 1\n",
    "                if len(columns) > 0:\n",
    "                    row_marker += 1"
   ]
  },
  {
   "cell_type": "markdown",
   "metadata": {},
   "source": [
    "We need to remove the newline in order to get the proper\n",
    "column and data"
   ]
  },
  {
   "cell_type": "code",
   "execution_count": 33,
   "metadata": {},
   "outputs": [],
   "source": [
    "df = df.replace('\\n','', regex=True)"
   ]
  },
  {
   "cell_type": "markdown",
   "metadata": {},
   "source": [
    "Only keep assigned borough names"
   ]
  },
  {
   "cell_type": "code",
   "execution_count": 34,
   "metadata": {},
   "outputs": [],
   "source": [
    "df = df[df.Borough != \"Not assigned\"]"
   ]
  },
  {
   "cell_type": "markdown",
   "metadata": {},
   "source": [
    "Now we group by postal code and borough and comma delimit all of the neighborhoos"
   ]
  },
  {
   "cell_type": "code",
   "execution_count": 35,
   "metadata": {},
   "outputs": [],
   "source": [
    "dfg = df.groupby(['Postcode','Borough'])['Neighbourhood'].agg([('Neighbourhood', ', '.join)]).reset_index()"
   ]
  },
  {
   "cell_type": "markdown",
   "metadata": {},
   "source": [
    "Was able to install Geocode but I could never get it to work properly\n",
    "Using the CSV provided (This takes some time to download)\n",
    "#!conda install -c conda-forge geocoder --yes"
   ]
  },
  {
   "cell_type": "code",
   "execution_count": 36,
   "metadata": {},
   "outputs": [
    {
     "name": "stdout",
     "output_type": "stream",
     "text": [
      "--2019-03-16 15:26:06--  http://cocl.us/Geospatial_data/Geospatial_Coordinates.csv\n",
      "Resolving cocl.us (cocl.us)... 169.48.113.201\n",
      "Connecting to cocl.us (cocl.us)|169.48.113.201|:80... connected.\n",
      "HTTP request sent, awaiting response... 301 Moved Permanently\n",
      "Location: https://cocl.us/Geospatial_data/Geospatial_Coordinates.csv [following]\n",
      "--2019-03-16 15:26:06--  https://cocl.us/Geospatial_data/Geospatial_Coordinates.csv\n",
      "Connecting to cocl.us (cocl.us)|169.48.113.201|:443... connected.\n",
      "HTTP request sent, awaiting response... 301 Moved Permanently\n",
      "Location: https://ibm.box.com/shared/static/9afzr83pps4pwf2smjjcf1y5mvgb18rr.csv [following]\n",
      "--2019-03-16 15:26:10--  https://ibm.box.com/shared/static/9afzr83pps4pwf2smjjcf1y5mvgb18rr.csv\n",
      "Resolving ibm.box.com (ibm.box.com)... 107.152.27.197, 107.152.26.197\n",
      "Connecting to ibm.box.com (ibm.box.com)|107.152.27.197|:443... connected.\n",
      "HTTP request sent, awaiting response... 301 Moved Permanently\n",
      "Location: /public/static/9afzr83pps4pwf2smjjcf1y5mvgb18rr.csv [following]\n",
      "--2019-03-16 15:26:10--  https://ibm.box.com/public/static/9afzr83pps4pwf2smjjcf1y5mvgb18rr.csv\n",
      "Reusing existing connection to ibm.box.com:443.\n",
      "HTTP request sent, awaiting response... 301 Moved Permanently\n",
      "Location: https://ibm.ent.box.com/public/static/9afzr83pps4pwf2smjjcf1y5mvgb18rr.csv [following]\n",
      "--2019-03-16 15:26:10--  https://ibm.ent.box.com/public/static/9afzr83pps4pwf2smjjcf1y5mvgb18rr.csv\n",
      "Resolving ibm.ent.box.com (ibm.ent.box.com)... 107.152.27.211, 107.152.26.211\n",
      "Connecting to ibm.ent.box.com (ibm.ent.box.com)|107.152.27.211|:443... connected.\n",
      "HTTP request sent, awaiting response... 302 Found\n",
      "Location: https://public.boxcloud.com/d/1/b1!itIfO67kMVhEZ-U5CNnUCNBCiM_HMPC66Cjpa0k08n8B2x1LnkHvjrJ7y850hNyNhkSQDCNxGS3_x-FksxCuOEAW3bSpZw4JwVAIwFFTTAKVC8sTC8csNKSTpc6BTurt5kixQmRzf94YahMFXeycFX6su5kO8rOIXrcHf0ETouGQuqNuwCDAf9ABjUe3IpXyjrarhUnrF-RGhzWN_0KgmADWz62ILDoCfP8ngWnE8egKkm4VHA-WAMvC8GoQhaXPI8WXvOXIalEJu-2l0pStw4IKyA-uUkL5HJwCjpQxzw_CXUpHb2cEwi-5Sfk7RA6OComkiZCxhIlzKY8OoVLDj2gdwiw8vHTdoC3JMkQiH_zdDM_SiGB3fb4BhC1ca197t6e08xOt0NvnAiTiy3Ms-dWb6TxYGt3YMFDP6yGvXE0O1CPkdgsjSn_cy6deMrSMpHe3dJq7QTP91PFUDIH1hSmP6sgGYt89Mn2Sf2slqP60Y7raH2W3JHHQGf4mwfSy9-uQMYojd0i_CO_18uJsnRFL5VoCO78IKQsPA2OX9QGgKM4B4fC3VLaMdIicW8lB0tqzvnA-097BRORYAJ8JeQ4dwGBDKb1fyCtyaW-UnO1IKwqbnVfJfjfOoWk3ATb8UQpkccpjA8I4mtxOKhWq8P2CDpYHCo5AkgUsv698W8B5m8rnyrm1xYB3Q7K_tahGDd9OzpPbquYRbjhllzcT9HeHPankAu-Kv6P2uFAw1AxOS1t1v596WsvwdGjcvpIkthyamP5l_wVI_A8h4IdfVaL4YOW9NYN2_0BnjPC79oJpQlUlNvhpoTfU-rTXGu6QjkAM8Cx1Vd3G4XhdMC2BLoEOmaRYrqpwpleHUuIbaaChsSaMJKQaLjgv95CFVsJlJN4W8eH5ezpBkCgOEIq8bX_HYyBA6KExKffA7MO0-pHQKKZ55vFNmEoUfuqOm-zWfCBxJ1zKD-N-jZq6JkypFeWzC2f3eZXrH_Jv8USwZ3hNO2kJ8mXtnD4K7yZ-ARXP4BMRXledAgY_MoEjtpw4O5K3sxj7OibXn_0gjTkkzDEhKOAjthwfkZmV4HBKg9Zm_r_DTvPmGFYRaXpC_ccBl2T5kWIZvg0p8FiWOlDaaG5xH3oAntyBEzfm0Cq-hMpgsIQH1XslTLhNNGeRpyNcVvDaerPQq2RqNT5aYb2lbBIA7hbrdkWcNgHQBbuq6zqrSNb0yD5tOyiA0PQyc8F7QZN5YVb2d1aSVRL7t5z1mzoiP_wiZ9AeiYKH6KDt3mXrS77mJ_TksQ91c0TgCiAG1hFj8mYQzJSm_d2laZ9aWJit6ngKgi1C2gtP4J3jYGtf452QLYfIgsLPB6tysXngVSnGdQHWDmMcNfkiLdi_XFjGXKs9ZGDdH53r4vtXyZtjCmln60eKNHWVhel-1977AwVo-h9ljoze0ctToqkTlawreh7e07s./download [following]\n",
      "--2019-03-16 15:26:11--  https://public.boxcloud.com/d/1/b1!itIfO67kMVhEZ-U5CNnUCNBCiM_HMPC66Cjpa0k08n8B2x1LnkHvjrJ7y850hNyNhkSQDCNxGS3_x-FksxCuOEAW3bSpZw4JwVAIwFFTTAKVC8sTC8csNKSTpc6BTurt5kixQmRzf94YahMFXeycFX6su5kO8rOIXrcHf0ETouGQuqNuwCDAf9ABjUe3IpXyjrarhUnrF-RGhzWN_0KgmADWz62ILDoCfP8ngWnE8egKkm4VHA-WAMvC8GoQhaXPI8WXvOXIalEJu-2l0pStw4IKyA-uUkL5HJwCjpQxzw_CXUpHb2cEwi-5Sfk7RA6OComkiZCxhIlzKY8OoVLDj2gdwiw8vHTdoC3JMkQiH_zdDM_SiGB3fb4BhC1ca197t6e08xOt0NvnAiTiy3Ms-dWb6TxYGt3YMFDP6yGvXE0O1CPkdgsjSn_cy6deMrSMpHe3dJq7QTP91PFUDIH1hSmP6sgGYt89Mn2Sf2slqP60Y7raH2W3JHHQGf4mwfSy9-uQMYojd0i_CO_18uJsnRFL5VoCO78IKQsPA2OX9QGgKM4B4fC3VLaMdIicW8lB0tqzvnA-097BRORYAJ8JeQ4dwGBDKb1fyCtyaW-UnO1IKwqbnVfJfjfOoWk3ATb8UQpkccpjA8I4mtxOKhWq8P2CDpYHCo5AkgUsv698W8B5m8rnyrm1xYB3Q7K_tahGDd9OzpPbquYRbjhllzcT9HeHPankAu-Kv6P2uFAw1AxOS1t1v596WsvwdGjcvpIkthyamP5l_wVI_A8h4IdfVaL4YOW9NYN2_0BnjPC79oJpQlUlNvhpoTfU-rTXGu6QjkAM8Cx1Vd3G4XhdMC2BLoEOmaRYrqpwpleHUuIbaaChsSaMJKQaLjgv95CFVsJlJN4W8eH5ezpBkCgOEIq8bX_HYyBA6KExKffA7MO0-pHQKKZ55vFNmEoUfuqOm-zWfCBxJ1zKD-N-jZq6JkypFeWzC2f3eZXrH_Jv8USwZ3hNO2kJ8mXtnD4K7yZ-ARXP4BMRXledAgY_MoEjtpw4O5K3sxj7OibXn_0gjTkkzDEhKOAjthwfkZmV4HBKg9Zm_r_DTvPmGFYRaXpC_ccBl2T5kWIZvg0p8FiWOlDaaG5xH3oAntyBEzfm0Cq-hMpgsIQH1XslTLhNNGeRpyNcVvDaerPQq2RqNT5aYb2lbBIA7hbrdkWcNgHQBbuq6zqrSNb0yD5tOyiA0PQyc8F7QZN5YVb2d1aSVRL7t5z1mzoiP_wiZ9AeiYKH6KDt3mXrS77mJ_TksQ91c0TgCiAG1hFj8mYQzJSm_d2laZ9aWJit6ngKgi1C2gtP4J3jYGtf452QLYfIgsLPB6tysXngVSnGdQHWDmMcNfkiLdi_XFjGXKs9ZGDdH53r4vtXyZtjCmln60eKNHWVhel-1977AwVo-h9ljoze0ctToqkTlawreh7e07s./download\n",
      "Resolving public.boxcloud.com (public.boxcloud.com)... 107.152.26.200, 107.152.27.200\n",
      "Connecting to public.boxcloud.com (public.boxcloud.com)|107.152.26.200|:443... connected.\n",
      "HTTP request sent, awaiting response... 200 OK\n",
      "Length: 2891 (2.8K) [text/csv]\n",
      "Saving to: ‘Geospatial_data.csv’\n",
      "\n",
      "Geospatial_data.csv 100%[=====================>]   2.82K  --.-KB/s   in 0s     \n",
      "\n",
      "2019-03-16 15:26:12 (55.1 MB/s) - ‘Geospatial_data.csv’ saved [2891/2891]\n",
      "\n"
     ]
    }
   ],
   "source": [
    "!wget -O Geospatial_data.csv http://cocl.us/Geospatial_data/Geospatial_Coordinates.csv"
   ]
  },
  {
   "cell_type": "code",
   "execution_count": 37,
   "metadata": {},
   "outputs": [],
   "source": [
    "Geospatial_data_df = pd.read_csv(\"Geospatial_data.csv\")\n"
   ]
  },
  {
   "cell_type": "markdown",
   "metadata": {},
   "source": [
    "Rename Postal Code to be the same as the DFG since it makes the merge easier to read"
   ]
  },
  {
   "cell_type": "code",
   "execution_count": 38,
   "metadata": {},
   "outputs": [],
   "source": [
    "Geospatial_data_df.rename(columns={'Postal Code': 'Postcode'}, inplace=True)"
   ]
  },
  {
   "cell_type": "code",
   "execution_count": 39,
   "metadata": {},
   "outputs": [],
   "source": [
    "df3 = pd.merge(dfg, Geospatial_data_df, on='Postcode')"
   ]
  },
  {
   "cell_type": "code",
   "execution_count": 40,
   "metadata": {},
   "outputs": [
    {
     "data": {
      "text/html": [
       "<div>\n",
       "<style scoped>\n",
       "    .dataframe tbody tr th:only-of-type {\n",
       "        vertical-align: middle;\n",
       "    }\n",
       "\n",
       "    .dataframe tbody tr th {\n",
       "        vertical-align: top;\n",
       "    }\n",
       "\n",
       "    .dataframe thead th {\n",
       "        text-align: right;\n",
       "    }\n",
       "</style>\n",
       "<table border=\"1\" class=\"dataframe\">\n",
       "  <thead>\n",
       "    <tr style=\"text-align: right;\">\n",
       "      <th></th>\n",
       "      <th>Postcode</th>\n",
       "      <th>Borough</th>\n",
       "      <th>Neighbourhood</th>\n",
       "      <th>Latitude</th>\n",
       "      <th>Longitude</th>\n",
       "    </tr>\n",
       "  </thead>\n",
       "  <tbody>\n",
       "    <tr>\n",
       "      <th>0</th>\n",
       "      <td>M1B</td>\n",
       "      <td>Scarborough</td>\n",
       "      <td>Rouge, Malvern</td>\n",
       "      <td>43.806686</td>\n",
       "      <td>-79.194353</td>\n",
       "    </tr>\n",
       "    <tr>\n",
       "      <th>1</th>\n",
       "      <td>M1C</td>\n",
       "      <td>Scarborough</td>\n",
       "      <td>Highland Creek, Rouge Hill, Port Union</td>\n",
       "      <td>43.784535</td>\n",
       "      <td>-79.160497</td>\n",
       "    </tr>\n",
       "    <tr>\n",
       "      <th>2</th>\n",
       "      <td>M1E</td>\n",
       "      <td>Scarborough</td>\n",
       "      <td>Guildwood, Morningside, West Hill</td>\n",
       "      <td>43.763573</td>\n",
       "      <td>-79.188711</td>\n",
       "    </tr>\n",
       "    <tr>\n",
       "      <th>3</th>\n",
       "      <td>M1G</td>\n",
       "      <td>Scarborough</td>\n",
       "      <td>Woburn</td>\n",
       "      <td>43.770992</td>\n",
       "      <td>-79.216917</td>\n",
       "    </tr>\n",
       "    <tr>\n",
       "      <th>4</th>\n",
       "      <td>M1H</td>\n",
       "      <td>Scarborough</td>\n",
       "      <td>Cedarbrae</td>\n",
       "      <td>43.773136</td>\n",
       "      <td>-79.239476</td>\n",
       "    </tr>\n",
       "  </tbody>\n",
       "</table>\n",
       "</div>"
      ],
      "text/plain": [
       "  Postcode      Borough                           Neighbourhood   Latitude  \\\n",
       "0      M1B  Scarborough                          Rouge, Malvern  43.806686   \n",
       "1      M1C  Scarborough  Highland Creek, Rouge Hill, Port Union  43.784535   \n",
       "2      M1E  Scarborough       Guildwood, Morningside, West Hill  43.763573   \n",
       "3      M1G  Scarborough                                  Woburn  43.770992   \n",
       "4      M1H  Scarborough                               Cedarbrae  43.773136   \n",
       "\n",
       "   Longitude  \n",
       "0 -79.194353  \n",
       "1 -79.160497  \n",
       "2 -79.188711  \n",
       "3 -79.216917  \n",
       "4 -79.239476  "
      ]
     },
     "execution_count": 40,
     "metadata": {},
     "output_type": "execute_result"
    }
   ],
   "source": [
    "df3.head()"
   ]
  },
  {
   "cell_type": "code",
   "execution_count": null,
   "metadata": {},
   "outputs": [],
   "source": []
  },
  {
   "cell_type": "code",
   "execution_count": null,
   "metadata": {},
   "outputs": [],
   "source": []
  }
 ],
 "metadata": {
  "kernelspec": {
   "display_name": "Python 3",
   "language": "python",
   "name": "python3"
  },
  "language_info": {
   "codemirror_mode": {
    "name": "ipython",
    "version": 3
   },
   "file_extension": ".py",
   "mimetype": "text/x-python",
   "name": "python",
   "nbconvert_exporter": "python",
   "pygments_lexer": "ipython3",
   "version": "3.6.8"
  }
 },
 "nbformat": 4,
 "nbformat_minor": 2
}
