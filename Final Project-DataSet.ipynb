{
 "cells": [
  {
   "cell_type": "markdown",
   "metadata": {},
   "source": [
    "## Comparing Diverse Cities to help People Relocate"
   ]
  },
  {
   "cell_type": "markdown",
   "metadata": {},
   "source": [
    "## Introduction\n",
    "\n",
    "In business people are always being asked to relocate to new cities. This can be an extremely stressful and overwhelming event for the individual being relocated. To help reduce this stress, it would be nice to help the individuals compare their current location to their new location.\n",
    "Before smart phones, social media and the prevalence of machine learning algorithms, a person would have to rely on other people’s suggestions or to have to read books about the new city they are going to. They may also choose to take some time to visit the new city. Since cities are big, it could take more than a week to visit all the neighborhoods. \n",
    "They may already know that they want to move to a neighborhood that is very similar to their current neighborhood. However, some people like to try new things and they may want to find a neighborhood that is very different.\n",
    "It would be great if they could have the neighborhoods narrowed down to their desired needs. In our case we will assume the individual is being relocated from New York to Toronto.\n",
    "\n",
    "\n",
    "## Data Acquisition and Cleansing\t\n",
    "Venues Data\n",
    "We will use the Foursquaree venue data API to get the most frequented venues. Since this API requires the latitude and longtitude of the neighborhoods, we need to get this data from other sources,\n",
    "New York Neighborhood Coordinates Data\n",
    "\tWe can use the publicly available dataset from  https://geo.nyu.edu/catalog/nyu_2451_34572\n",
    "\n",
    "# Toronto Neighborhood Coordinates Data\n",
    "\t\n",
    "\tWe can use the wikipedia page \n",
    "https://en.wikipedia.org/wiki/List_of_postal_codes_of_Canada:_M that has a list of all the boroughs and neighborhoods in Toronto. We will extract this list from an HTML table using beautiful soup. Unfortunately I was not able to get GEOCODE to work to get the latitude and longtitude of the neighborhoods. I use the Geospatial Coordinates provide by the class.\n",
    "\n",
    "# Cleansing & restrictions\n",
    "The foursquare API limits the number of calls you can make per session. This forced me to reduce the number of neighborhoods used in the analysis. I am going to use the Manhattan New York Borough and The Downtown-Toronto borough.\n",
    "\n",
    "We removed any unassigned data from both datasets. The wikipedia HTML data set had new line characters that needed to be removed. Also I need to create the same column names in the dataframes that held the New York and Toronto data\n",
    "\n",
    "# Final Data Set\n",
    "Once the data sets were prepared, I will concatenate both data sets into one neighborhood dataframe.\n",
    "\n",
    "# Feature Selection\n",
    "The features for the different neighborhoods would be the 5 top most frequented venues for each neighborhood.  I will use the mean frequency of visits to determine the to 5 venues.\n"
   ]
  },
  {
   "cell_type": "markdown",
   "metadata": {},
   "source": [
    "## 1. Download Toronto City into Dataframe TO_neighborhoods"
   ]
  },
  {
   "cell_type": "code",
   "execution_count": 2,
   "metadata": {
    "collapsed": false
   },
   "outputs": [],
   "source": [
    "import pandas as pd # library for data analsysis\n",
    "import requests # library to handle requests\n"
   ]
  },
  {
   "cell_type": "code",
   "execution_count": 3,
   "metadata": {
    "collapsed": false
   },
   "outputs": [
    {
     "name": "stdout",
     "output_type": "stream",
     "text": [
      "XML Downloaded\n"
     ]
    }
   ],
   "source": [
    "url = requests.get(\"https://en.wikipedia.org/wiki/List_of_postal_codes_of_Canada:_M\")\n",
    "htmltext = url.text\n",
    "print('XML Downloaded')"
   ]
  },
  {
   "cell_type": "code",
   "execution_count": 4,
   "metadata": {
    "collapsed": false
   },
   "outputs": [],
   "source": [
    "from bs4 import BeautifulSoup\n",
    "import bs4\n",
    "\n",
    "soup = bs4.BeautifulSoup(htmltext, 'lxml')\n",
    "table = soup.find('table','wikitable sortable')\n",
    "#print (table)"
   ]
  },
  {
   "cell_type": "code",
   "execution_count": 5,
   "metadata": {
    "collapsed": false
   },
   "outputs": [
    {
     "name": "stdout",
     "output_type": "stream",
     "text": [
      "['Postcode', 'Borough', 'Neighbourhood']\n"
     ]
    },
    {
     "data": {
      "text/html": [
       "<div>\n",
       "<style scoped>\n",
       "    .dataframe tbody tr th:only-of-type {\n",
       "        vertical-align: middle;\n",
       "    }\n",
       "\n",
       "    .dataframe tbody tr th {\n",
       "        vertical-align: top;\n",
       "    }\n",
       "\n",
       "    .dataframe thead th {\n",
       "        text-align: right;\n",
       "    }\n",
       "</style>\n",
       "<table border=\"1\" class=\"dataframe\">\n",
       "  <thead>\n",
       "    <tr style=\"text-align: right;\">\n",
       "      <th></th>\n",
       "      <th>Postcode</th>\n",
       "      <th>Borough</th>\n",
       "      <th>Neighbourhood</th>\n",
       "    </tr>\n",
       "  </thead>\n",
       "  <tbody>\n",
       "    <tr>\n",
       "      <th>2</th>\n",
       "      <td>M3A</td>\n",
       "      <td>North York</td>\n",
       "      <td>Parkwoods</td>\n",
       "    </tr>\n",
       "    <tr>\n",
       "      <th>3</th>\n",
       "      <td>M4A</td>\n",
       "      <td>North York</td>\n",
       "      <td>Victoria Village</td>\n",
       "    </tr>\n",
       "    <tr>\n",
       "      <th>4</th>\n",
       "      <td>M5A</td>\n",
       "      <td>Downtown Toronto</td>\n",
       "      <td>Harbourfront</td>\n",
       "    </tr>\n",
       "    <tr>\n",
       "      <th>5</th>\n",
       "      <td>M5A</td>\n",
       "      <td>Downtown Toronto</td>\n",
       "      <td>Regent Park</td>\n",
       "    </tr>\n",
       "    <tr>\n",
       "      <th>6</th>\n",
       "      <td>M6A</td>\n",
       "      <td>North York</td>\n",
       "      <td>Lawrence Heights</td>\n",
       "    </tr>\n",
       "  </tbody>\n",
       "</table>\n",
       "</div>"
      ],
      "text/plain": [
       "  Postcode           Borough     Neighbourhood\n",
       "2      M3A        North York         Parkwoods\n",
       "3      M4A        North York  Victoria Village\n",
       "4      M5A  Downtown Toronto      Harbourfront\n",
       "5      M5A  Downtown Toronto       Regent Park\n",
       "6      M6A        North York  Lawrence Heights"
      ]
     },
     "execution_count": 5,
     "metadata": {},
     "output_type": "execute_result"
    }
   ],
   "source": [
    "            n_columns = 0\n",
    "            n_rows=0\n",
    "            column_names = []\n",
    "    \n",
    "            # Find number of rows and columns\n",
    "            # we also find the column titles if we can\n",
    "            for row in table.find_all('tr'):\n",
    "                \n",
    "                # Determine the number of rows in the table\n",
    "                td_tags = row.find_all('td')\n",
    "                if len(td_tags) > 0:\n",
    "                    n_rows+=1\n",
    "                    if n_columns == 0:\n",
    "                        # Set the number of columns for our table\n",
    "                        n_columns = len(td_tags)\n",
    "                        \n",
    "                # Handle column names if we find them\n",
    "                th_tags = row.find_all('th') \n",
    "                if len(th_tags) > 0 and len(column_names) == 0:\n",
    "                    for th in th_tags:\n",
    "                        column_names.append(th.get_text().replace('\\n', ''))\n",
    "    \n",
    "            # Safeguard on Column Titles\n",
    "            if len(column_names) > 0 and len(column_names) != n_columns:\n",
    "                raise Exception(\"Column titles do not match the number of columns\")\n",
    "            print (column_names)\n",
    "            columns = column_names if len(column_names) > 0 else range(0,n_columns)\n",
    "            df = pd.DataFrame(columns = columns,\n",
    "                              index= range(0,n_rows))\n",
    "            row_marker = 0\n",
    "            for row in table.find_all('tr'):\n",
    "                column_marker = 0\n",
    "                columns = row.find_all('td')\n",
    "                for column in columns:\n",
    "                    df.iat[row_marker,column_marker] = column.get_text()\n",
    "                    column_marker += 1\n",
    "                if len(columns) > 0:\n",
    "                    row_marker += 1\n",
    "                    \n",
    "df = df.replace('\\n','', regex=True)\n",
    "df = df[df.Borough != \"Not assigned\"]\n",
    "df.head()"
   ]
  },
  {
   "cell_type": "code",
   "execution_count": 6,
   "metadata": {
    "collapsed": false
   },
   "outputs": [
    {
     "name": "stdout",
     "output_type": "stream",
     "text": [
      "--2019-03-25 00:09:12--  http://cocl.us/Geospatial_data/Geospatial_Coordinates.csv\n",
      "Resolving cocl.us (cocl.us)... 169.48.113.201\n",
      "Connecting to cocl.us (cocl.us)|169.48.113.201|:80... connected.\n",
      "HTTP request sent, awaiting response... 301 Moved Permanently\n",
      "Location: https://cocl.us/Geospatial_data/Geospatial_Coordinates.csv [following]\n",
      "--2019-03-25 00:09:12--  https://cocl.us/Geospatial_data/Geospatial_Coordinates.csv\n",
      "Connecting to cocl.us (cocl.us)|169.48.113.201|:443... connected.\n",
      "HTTP request sent, awaiting response... 301 Moved Permanently\n",
      "Location: https://ibm.box.com/shared/static/9afzr83pps4pwf2smjjcf1y5mvgb18rr.csv [following]\n",
      "--2019-03-25 00:09:12--  https://ibm.box.com/shared/static/9afzr83pps4pwf2smjjcf1y5mvgb18rr.csv\n",
      "Resolving ibm.box.com (ibm.box.com)... 107.152.27.197\n",
      "Connecting to ibm.box.com (ibm.box.com)|107.152.27.197|:443... connected.\n",
      "HTTP request sent, awaiting response... 301 Moved Permanently\n",
      "Location: /public/static/9afzr83pps4pwf2smjjcf1y5mvgb18rr.csv [following]\n",
      "--2019-03-25 00:09:13--  https://ibm.box.com/public/static/9afzr83pps4pwf2smjjcf1y5mvgb18rr.csv\n",
      "Reusing existing connection to ibm.box.com:443.\n",
      "HTTP request sent, awaiting response... 301 Moved Permanently\n",
      "Location: https://ibm.ent.box.com/public/static/9afzr83pps4pwf2smjjcf1y5mvgb18rr.csv [following]\n",
      "--2019-03-25 00:09:13--  https://ibm.ent.box.com/public/static/9afzr83pps4pwf2smjjcf1y5mvgb18rr.csv\n",
      "Resolving ibm.ent.box.com (ibm.ent.box.com)... 107.152.27.211\n",
      "Connecting to ibm.ent.box.com (ibm.ent.box.com)|107.152.27.211|:443... connected.\n",
      "HTTP request sent, awaiting response... 302 Found\n",
      "Location: https://public.boxcloud.com/d/1/b1!A2pqI42MVlLcXZplX3-3lRbi1ZecBGQZYa1pwEsJUVAqq9icY5RbWn2o5ZDchGOAaHmUOktrdPlTQ0ZqnsdK4qjhGMLfIJct6wOdcnIVKdzCicgC5gLR_kMceip_9A4CA4_MCjTwUSULqa_XrhWwBFhDv2bk10OLqlYYW8h_180IunR9XbqSsHMPm21rEEMAIl0iJ9dD9h9GzxraclDB7yaSVejHkztiEnbt73rlyxYX3AluPM6JZYwDWxykv2V-I9fRUDTfHFuAaNctdaskuusSlm7xxWv8iIObs8l6dHKMzw0-CcScTbgqFUoh2QOMoSZuonBZc4zBi_DrvRxOtbcDbbcgSsMvZo98MRAwn0AdHwN-wJlqomxWEbtKBheKeEyPaxD6VUrNEGXxe2cQs4uMlVJlTZFzGSeh5OV1IWOQ0pX2QrInDo-tEJ-HUP5dxkNogVnKJDbHV2y2r4szdtCGPHsWELP5q9NnL-qK-tjCxcyI87I25ul0L2dYWgRlzCL9aH_jGXOr3v3OrOwcP3TMnhlqddZTuNtGoQn3vsIPe14FELamNdFxqoRnYb4CwaSSatZHzgEwrWHgp0-Wlxp8QDSIt07WtHKsjKYPKvZSKLK3jjpSpQYFhWBzjhD8upOmldb_4uIBqgRiej7lV67MXzBSbqOKGqwzvn_KSRk-UEEFu5sagnVKQst6B93FmxacQ0Dr_TxxatmgexpLQF85XAl8XAAznwnW0kWamFyrlpkoUXEUbTJM-v5NtOfGzjlNJn4ITQUWQuFEpftrJKCXx-nS3ozpWdnB8No5TJ2sCqhW458AgcBzOO_ZsmhYcl3rHohl2goPeFZ-98SqSoouFmklJCWku1Svq1otN9HwGemZxexBNEmggujXvGU5SoXh-UhIG6nqHvGpeqG4Z_nOHDsaChmooQFtqSDeAAlHql5_d0BoctMgkgyeZkiL9dAhnRCAo2CRy3H0MyuQCdCieedrSFvjny25kddRZrr4YDbMJwPZtaE1ZOx6heAhs_2jG8PT-wuNVDtvo2-itxThQTg3xyu-eePj3zEaLp--FcES0mo8bFQQBtPWhoIA0hwg9ZyEgAGFBBj0b9Hp0DygSYnpcHK0UN5NJQEp2aLE8KLR9mcLMzBBSR1njcRCW0gRsPQgPdxsvr6lLMhTdEIRXMMC-eGS783rVM_bKaH8_co7p4TKeb0tX37gpAC21dLeayPKftjbH8qnko98CHWouEVYNIEzz4HS2GIkglS0U__HlZFe1x--0ET_VPeGZHbzO3WGEOeJsSIsemBKKRKbC6od66w27bO8H6pF5QKHbaw7MoxV1xmJZzWN1EaZY5xBFEIpye7-SRZexXNPPzsvX2GtrOXMSCrE1iUb-hjkMgOIPR6Y1YfTH-o4f0UDSsoZBm2VuavAwmqKztu1_0mUR0u1AvAwwDst7X35TnRicneG9AvA/download [following]\n",
      "--2019-03-25 00:09:14--  https://public.boxcloud.com/d/1/b1!A2pqI42MVlLcXZplX3-3lRbi1ZecBGQZYa1pwEsJUVAqq9icY5RbWn2o5ZDchGOAaHmUOktrdPlTQ0ZqnsdK4qjhGMLfIJct6wOdcnIVKdzCicgC5gLR_kMceip_9A4CA4_MCjTwUSULqa_XrhWwBFhDv2bk10OLqlYYW8h_180IunR9XbqSsHMPm21rEEMAIl0iJ9dD9h9GzxraclDB7yaSVejHkztiEnbt73rlyxYX3AluPM6JZYwDWxykv2V-I9fRUDTfHFuAaNctdaskuusSlm7xxWv8iIObs8l6dHKMzw0-CcScTbgqFUoh2QOMoSZuonBZc4zBi_DrvRxOtbcDbbcgSsMvZo98MRAwn0AdHwN-wJlqomxWEbtKBheKeEyPaxD6VUrNEGXxe2cQs4uMlVJlTZFzGSeh5OV1IWOQ0pX2QrInDo-tEJ-HUP5dxkNogVnKJDbHV2y2r4szdtCGPHsWELP5q9NnL-qK-tjCxcyI87I25ul0L2dYWgRlzCL9aH_jGXOr3v3OrOwcP3TMnhlqddZTuNtGoQn3vsIPe14FELamNdFxqoRnYb4CwaSSatZHzgEwrWHgp0-Wlxp8QDSIt07WtHKsjKYPKvZSKLK3jjpSpQYFhWBzjhD8upOmldb_4uIBqgRiej7lV67MXzBSbqOKGqwzvn_KSRk-UEEFu5sagnVKQst6B93FmxacQ0Dr_TxxatmgexpLQF85XAl8XAAznwnW0kWamFyrlpkoUXEUbTJM-v5NtOfGzjlNJn4ITQUWQuFEpftrJKCXx-nS3ozpWdnB8No5TJ2sCqhW458AgcBzOO_ZsmhYcl3rHohl2goPeFZ-98SqSoouFmklJCWku1Svq1otN9HwGemZxexBNEmggujXvGU5SoXh-UhIG6nqHvGpeqG4Z_nOHDsaChmooQFtqSDeAAlHql5_d0BoctMgkgyeZkiL9dAhnRCAo2CRy3H0MyuQCdCieedrSFvjny25kddRZrr4YDbMJwPZtaE1ZOx6heAhs_2jG8PT-wuNVDtvo2-itxThQTg3xyu-eePj3zEaLp--FcES0mo8bFQQBtPWhoIA0hwg9ZyEgAGFBBj0b9Hp0DygSYnpcHK0UN5NJQEp2aLE8KLR9mcLMzBBSR1njcRCW0gRsPQgPdxsvr6lLMhTdEIRXMMC-eGS783rVM_bKaH8_co7p4TKeb0tX37gpAC21dLeayPKftjbH8qnko98CHWouEVYNIEzz4HS2GIkglS0U__HlZFe1x--0ET_VPeGZHbzO3WGEOeJsSIsemBKKRKbC6od66w27bO8H6pF5QKHbaw7MoxV1xmJZzWN1EaZY5xBFEIpye7-SRZexXNPPzsvX2GtrOXMSCrE1iUb-hjkMgOIPR6Y1YfTH-o4f0UDSsoZBm2VuavAwmqKztu1_0mUR0u1AvAwwDst7X35TnRicneG9AvA/download\n",
      "Resolving public.boxcloud.com (public.boxcloud.com)... 107.152.26.200\n",
      "Connecting to public.boxcloud.com (public.boxcloud.com)|107.152.26.200|:443... connected.\n",
      "HTTP request sent, awaiting response... 200 OK\n",
      "Length: 2891 (2.8K) [text/csv]\n",
      "Saving to: ‘Geospatial_data.csv’\n",
      "\n",
      "Geospatial_data.csv 100%[=====================>]   2.82K  --.-KB/s   in 0s     \n",
      "\n",
      "2019-03-25 00:09:14 (57.9 MB/s) - ‘Geospatial_data.csv’ saved [2891/2891]\n",
      "\n"
     ]
    }
   ],
   "source": [
    "!wget -O Geospatial_data.csv http://cocl.us/Geospatial_data/Geospatial_Coordinates.csv\n",
    "    \n",
    "    "
   ]
  },
  {
   "cell_type": "code",
   "execution_count": 7,
   "metadata": {},
   "outputs": [
    {
     "data": {
      "text/html": [
       "<div>\n",
       "<style scoped>\n",
       "    .dataframe tbody tr th:only-of-type {\n",
       "        vertical-align: middle;\n",
       "    }\n",
       "\n",
       "    .dataframe tbody tr th {\n",
       "        vertical-align: top;\n",
       "    }\n",
       "\n",
       "    .dataframe thead th {\n",
       "        text-align: right;\n",
       "    }\n",
       "</style>\n",
       "<table border=\"1\" class=\"dataframe\">\n",
       "  <thead>\n",
       "    <tr style=\"text-align: right;\">\n",
       "      <th></th>\n",
       "      <th>City</th>\n",
       "      <th>Borough</th>\n",
       "      <th>Neighborhood</th>\n",
       "      <th>Latitude</th>\n",
       "      <th>Longitude</th>\n",
       "    </tr>\n",
       "  </thead>\n",
       "  <tbody>\n",
       "    <tr>\n",
       "      <th>0</th>\n",
       "      <td>TO</td>\n",
       "      <td>TO_Downtown Toronto</td>\n",
       "      <td>TO_Harbourfront</td>\n",
       "      <td>43.654260</td>\n",
       "      <td>-79.360636</td>\n",
       "    </tr>\n",
       "    <tr>\n",
       "      <th>1</th>\n",
       "      <td>TO</td>\n",
       "      <td>TO_Downtown Toronto</td>\n",
       "      <td>TO_Regent Park</td>\n",
       "      <td>43.654260</td>\n",
       "      <td>-79.360636</td>\n",
       "    </tr>\n",
       "    <tr>\n",
       "      <th>2</th>\n",
       "      <td>TO</td>\n",
       "      <td>TO_Downtown Toronto</td>\n",
       "      <td>TO_Ryerson</td>\n",
       "      <td>43.657162</td>\n",
       "      <td>-79.378937</td>\n",
       "    </tr>\n",
       "    <tr>\n",
       "      <th>3</th>\n",
       "      <td>TO</td>\n",
       "      <td>TO_Downtown Toronto</td>\n",
       "      <td>TO_Garden District</td>\n",
       "      <td>43.657162</td>\n",
       "      <td>-79.378937</td>\n",
       "    </tr>\n",
       "    <tr>\n",
       "      <th>4</th>\n",
       "      <td>TO</td>\n",
       "      <td>TO_Downtown Toronto</td>\n",
       "      <td>TO_St. James Town</td>\n",
       "      <td>43.651494</td>\n",
       "      <td>-79.375418</td>\n",
       "    </tr>\n",
       "  </tbody>\n",
       "</table>\n",
       "</div>"
      ],
      "text/plain": [
       "  City              Borough        Neighborhood   Latitude  Longitude\n",
       "0   TO  TO_Downtown Toronto     TO_Harbourfront  43.654260 -79.360636\n",
       "1   TO  TO_Downtown Toronto      TO_Regent Park  43.654260 -79.360636\n",
       "2   TO  TO_Downtown Toronto          TO_Ryerson  43.657162 -79.378937\n",
       "3   TO  TO_Downtown Toronto  TO_Garden District  43.657162 -79.378937\n",
       "4   TO  TO_Downtown Toronto   TO_St. James Town  43.651494 -79.375418"
      ]
     },
     "execution_count": 7,
     "metadata": {},
     "output_type": "execute_result"
    }
   ],
   "source": [
    "Geospatial_data_df = pd.read_csv(\"Geospatial_data.csv\")\n",
    "\n",
    "Geospatial_data_df.rename(columns={'Postal Code': 'Postcode'}, inplace=True)\n",
    "TO_neighborhoods = pd.merge(df, Geospatial_data_df, on='Postcode')\n",
    "\n",
    "TO_neighborhoods.rename(columns={'Postcode': 'City'}, inplace=True)\n",
    "TO_neighborhoods.rename(columns={'Neighbourhood': 'Neighborhood'}, inplace=True)\n",
    "TO_neighborhoods['City'] = 'TO'\n",
    "TO_neighborhoods.head()\n",
    "\n",
    "downtown_toronto_data = TO_neighborhoods[TO_neighborhoods['Borough'] == 'Downtown Toronto'].reset_index(drop=True)\n",
    "downtown_toronto_data['Borough'] = 'TO_' + downtown_toronto_data['Borough']\n",
    "downtown_toronto_data['Neighborhood'] = 'TO_' + downtown_toronto_data['Neighborhood'] \n",
    "downtown_toronto_data.head()"
   ]
  },
  {
   "cell_type": "markdown",
   "metadata": {},
   "source": [
    "<a id='item1'></a>"
   ]
  },
  {
   "cell_type": "markdown",
   "metadata": {},
   "source": [
    "## 1. Download New York City into Dataframe NY_neighborhoods"
   ]
  },
  {
   "cell_type": "code",
   "execution_count": 8,
   "metadata": {
    "collapsed": false,
    "scrolled": true
   },
   "outputs": [],
   "source": [
    "import json # library to handle JSON files\n",
    "from pandas.io.json import json_normalize # tranform JSON file into a pandas dataframe\n"
   ]
  },
  {
   "cell_type": "code",
   "execution_count": 9,
   "metadata": {
    "collapsed": false,
    "scrolled": true
   },
   "outputs": [
    {
     "name": "stdout",
     "output_type": "stream",
     "text": [
      "NY Loaded\n"
     ]
    }
   ],
   "source": [
    "!wget -q -O 'newyork_data.json' https://cocl.us/new_york_dataset\n",
    "\n",
    "with open('newyork_data.json') as NY_json_data:\n",
    "    NY_data = json.load(NY_json_data)\n",
    "    \n",
    "# Notice how all the relevant data is in the features key, which is basically a list of the neighborhoods. \n",
    "# So, let's define a new variable that includes this data   \n",
    "\n",
    "NY_features_data = NY_data['features']\n",
    "\n",
    "# Tranform the JSON data into a pandas dataframe\n",
    "# define the dataframe columns\n",
    "column_names = ['City', 'Borough', 'Neighborhood', 'Latitude', 'Longitude'] \n",
    "\n",
    "# instantiate the dataframe\n",
    "NY_neighborhoods = pd.DataFrame(columns=column_names)\n",
    "\n",
    "for data in NY_features_data:\n",
    "    city = 'NY'\n",
    "    borough = neighborhood_name = data['properties']['borough'] \n",
    "    neighborhood_name = data['properties']['name']\n",
    "        \n",
    "    neighborhood_latlon = data['geometry']['coordinates']\n",
    "    neighborhood_lat = neighborhood_latlon[1]\n",
    "    neighborhood_lon = neighborhood_latlon[0]\n",
    "    \n",
    "    NY_neighborhoods = NY_neighborhoods.append({'City': city,\n",
    "                                          'Borough': borough,\n",
    "                                          'Neighborhood': neighborhood_name,\n",
    "                                          'Latitude': neighborhood_lat,\n",
    "                                          'Longitude': neighborhood_lon}, ignore_index=True)\n",
    "\n",
    "print (\"NY Loaded\")"
   ]
  },
  {
   "cell_type": "code",
   "execution_count": 10,
   "metadata": {
    "collapsed": false,
    "scrolled": true
   },
   "outputs": [
    {
     "data": {
      "text/plain": [
       "(306, 5)"
      ]
     },
     "execution_count": 10,
     "metadata": {},
     "output_type": "execute_result"
    }
   ],
   "source": [
    "NY_neighborhoods.head()\n",
    "NY_neighborhoods.shape"
   ]
  },
  {
   "cell_type": "markdown",
   "metadata": {},
   "source": [
    "need to just load manhattan since you can only make so many requests to Foursqare API"
   ]
  },
  {
   "cell_type": "code",
   "execution_count": 11,
   "metadata": {
    "collapsed": false,
    "scrolled": true
   },
   "outputs": [],
   "source": [
    "manhattan_data = NY_neighborhoods[NY_neighborhoods['Borough'] == 'Manhattan'].reset_index(drop=True)"
   ]
  },
  {
   "cell_type": "code",
   "execution_count": 12,
   "metadata": {
    "collapsed": false,
    "scrolled": true
   },
   "outputs": [
    {
     "data": {
      "text/html": [
       "<div>\n",
       "<style scoped>\n",
       "    .dataframe tbody tr th:only-of-type {\n",
       "        vertical-align: middle;\n",
       "    }\n",
       "\n",
       "    .dataframe tbody tr th {\n",
       "        vertical-align: top;\n",
       "    }\n",
       "\n",
       "    .dataframe thead th {\n",
       "        text-align: right;\n",
       "    }\n",
       "</style>\n",
       "<table border=\"1\" class=\"dataframe\">\n",
       "  <thead>\n",
       "    <tr style=\"text-align: right;\">\n",
       "      <th></th>\n",
       "      <th>City</th>\n",
       "      <th>Borough</th>\n",
       "      <th>Neighborhood</th>\n",
       "      <th>Latitude</th>\n",
       "      <th>Longitude</th>\n",
       "    </tr>\n",
       "  </thead>\n",
       "  <tbody>\n",
       "    <tr>\n",
       "      <th>0</th>\n",
       "      <td>NY</td>\n",
       "      <td>NY_Manhattan</td>\n",
       "      <td>NY_Marble Hill</td>\n",
       "      <td>40.876551</td>\n",
       "      <td>-73.910660</td>\n",
       "    </tr>\n",
       "    <tr>\n",
       "      <th>1</th>\n",
       "      <td>NY</td>\n",
       "      <td>NY_Manhattan</td>\n",
       "      <td>NY_Chinatown</td>\n",
       "      <td>40.715618</td>\n",
       "      <td>-73.994279</td>\n",
       "    </tr>\n",
       "    <tr>\n",
       "      <th>2</th>\n",
       "      <td>NY</td>\n",
       "      <td>NY_Manhattan</td>\n",
       "      <td>NY_Washington Heights</td>\n",
       "      <td>40.851903</td>\n",
       "      <td>-73.936900</td>\n",
       "    </tr>\n",
       "    <tr>\n",
       "      <th>3</th>\n",
       "      <td>NY</td>\n",
       "      <td>NY_Manhattan</td>\n",
       "      <td>NY_Inwood</td>\n",
       "      <td>40.867684</td>\n",
       "      <td>-73.921210</td>\n",
       "    </tr>\n",
       "    <tr>\n",
       "      <th>4</th>\n",
       "      <td>NY</td>\n",
       "      <td>NY_Manhattan</td>\n",
       "      <td>NY_Hamilton Heights</td>\n",
       "      <td>40.823604</td>\n",
       "      <td>-73.949688</td>\n",
       "    </tr>\n",
       "  </tbody>\n",
       "</table>\n",
       "</div>"
      ],
      "text/plain": [
       "  City       Borough           Neighborhood   Latitude  Longitude\n",
       "0   NY  NY_Manhattan         NY_Marble Hill  40.876551 -73.910660\n",
       "1   NY  NY_Manhattan           NY_Chinatown  40.715618 -73.994279\n",
       "2   NY  NY_Manhattan  NY_Washington Heights  40.851903 -73.936900\n",
       "3   NY  NY_Manhattan              NY_Inwood  40.867684 -73.921210\n",
       "4   NY  NY_Manhattan    NY_Hamilton Heights  40.823604 -73.949688"
      ]
     },
     "execution_count": 12,
     "metadata": {},
     "output_type": "execute_result"
    }
   ],
   "source": [
    "manhattan_data['Borough'] = 'NY_' + manhattan_data['Borough'] \n",
    "manhattan_data['Neighborhood'] = 'NY_' + manhattan_data['Neighborhood'] \n",
    "manhattan_data.head()\n"
   ]
  },
  {
   "cell_type": "markdown",
   "metadata": {},
   "source": [
    "## 1. Concatenate the NY neighborhoods with Toronto neighborhoods into neighborhoods"
   ]
  },
  {
   "cell_type": "code",
   "execution_count": 13,
   "metadata": {
    "collapsed": false,
    "scrolled": true
   },
   "outputs": [
    {
     "data": {
      "text/html": [
       "<div>\n",
       "<style scoped>\n",
       "    .dataframe tbody tr th:only-of-type {\n",
       "        vertical-align: middle;\n",
       "    }\n",
       "\n",
       "    .dataframe tbody tr th {\n",
       "        vertical-align: top;\n",
       "    }\n",
       "\n",
       "    .dataframe thead th {\n",
       "        text-align: right;\n",
       "    }\n",
       "</style>\n",
       "<table border=\"1\" class=\"dataframe\">\n",
       "  <thead>\n",
       "    <tr style=\"text-align: right;\">\n",
       "      <th></th>\n",
       "      <th>index</th>\n",
       "      <th>City</th>\n",
       "      <th>Borough</th>\n",
       "      <th>Neighborhood</th>\n",
       "      <th>Latitude</th>\n",
       "      <th>Longitude</th>\n",
       "    </tr>\n",
       "  </thead>\n",
       "  <tbody>\n",
       "    <tr>\n",
       "      <th>0</th>\n",
       "      <td>0</td>\n",
       "      <td>NY</td>\n",
       "      <td>NY_Manhattan</td>\n",
       "      <td>NY_Marble Hill</td>\n",
       "      <td>40.876551</td>\n",
       "      <td>-73.910660</td>\n",
       "    </tr>\n",
       "    <tr>\n",
       "      <th>1</th>\n",
       "      <td>1</td>\n",
       "      <td>NY</td>\n",
       "      <td>NY_Manhattan</td>\n",
       "      <td>NY_Chinatown</td>\n",
       "      <td>40.715618</td>\n",
       "      <td>-73.994279</td>\n",
       "    </tr>\n",
       "    <tr>\n",
       "      <th>2</th>\n",
       "      <td>2</td>\n",
       "      <td>NY</td>\n",
       "      <td>NY_Manhattan</td>\n",
       "      <td>NY_Washington Heights</td>\n",
       "      <td>40.851903</td>\n",
       "      <td>-73.936900</td>\n",
       "    </tr>\n",
       "    <tr>\n",
       "      <th>3</th>\n",
       "      <td>3</td>\n",
       "      <td>NY</td>\n",
       "      <td>NY_Manhattan</td>\n",
       "      <td>NY_Inwood</td>\n",
       "      <td>40.867684</td>\n",
       "      <td>-73.921210</td>\n",
       "    </tr>\n",
       "    <tr>\n",
       "      <th>4</th>\n",
       "      <td>4</td>\n",
       "      <td>NY</td>\n",
       "      <td>NY_Manhattan</td>\n",
       "      <td>NY_Hamilton Heights</td>\n",
       "      <td>40.823604</td>\n",
       "      <td>-73.949688</td>\n",
       "    </tr>\n",
       "  </tbody>\n",
       "</table>\n",
       "</div>"
      ],
      "text/plain": [
       "   index City       Borough           Neighborhood   Latitude  Longitude\n",
       "0      0   NY  NY_Manhattan         NY_Marble Hill  40.876551 -73.910660\n",
       "1      1   NY  NY_Manhattan           NY_Chinatown  40.715618 -73.994279\n",
       "2      2   NY  NY_Manhattan  NY_Washington Heights  40.851903 -73.936900\n",
       "3      3   NY  NY_Manhattan              NY_Inwood  40.867684 -73.921210\n",
       "4      4   NY  NY_Manhattan    NY_Hamilton Heights  40.823604 -73.949688"
      ]
     },
     "execution_count": 13,
     "metadata": {},
     "output_type": "execute_result"
    }
   ],
   "source": [
    "TO_neighborhoods.reset_index()\n",
    "neighborhood_data = pd.concat([manhattan_data, downtown_toronto_data], axis=0).reset_index()\n",
    "neighborhood_data.head()"
   ]
  },
  {
   "cell_type": "code",
   "execution_count": 14,
   "metadata": {
    "collapsed": false,
    "scrolled": true
   },
   "outputs": [
    {
     "data": {
      "text/html": [
       "<div>\n",
       "<style scoped>\n",
       "    .dataframe tbody tr th:only-of-type {\n",
       "        vertical-align: middle;\n",
       "    }\n",
       "\n",
       "    .dataframe tbody tr th {\n",
       "        vertical-align: top;\n",
       "    }\n",
       "\n",
       "    .dataframe thead th {\n",
       "        text-align: right;\n",
       "    }\n",
       "</style>\n",
       "<table border=\"1\" class=\"dataframe\">\n",
       "  <thead>\n",
       "    <tr style=\"text-align: right;\">\n",
       "      <th></th>\n",
       "      <th>index</th>\n",
       "      <th>City</th>\n",
       "      <th>Borough</th>\n",
       "      <th>Neighborhood</th>\n",
       "      <th>Latitude</th>\n",
       "      <th>Longitude</th>\n",
       "    </tr>\n",
       "  </thead>\n",
       "  <tbody>\n",
       "    <tr>\n",
       "      <th>72</th>\n",
       "      <td>32</td>\n",
       "      <td>TO</td>\n",
       "      <td>TO_Downtown Toronto</td>\n",
       "      <td>TO_Cabbagetown</td>\n",
       "      <td>43.667967</td>\n",
       "      <td>-79.367675</td>\n",
       "    </tr>\n",
       "    <tr>\n",
       "      <th>73</th>\n",
       "      <td>33</td>\n",
       "      <td>TO</td>\n",
       "      <td>TO_Downtown Toronto</td>\n",
       "      <td>TO_St. James Town</td>\n",
       "      <td>43.667967</td>\n",
       "      <td>-79.367675</td>\n",
       "    </tr>\n",
       "    <tr>\n",
       "      <th>74</th>\n",
       "      <td>34</td>\n",
       "      <td>TO</td>\n",
       "      <td>TO_Downtown Toronto</td>\n",
       "      <td>TO_First Canadian Place</td>\n",
       "      <td>43.648429</td>\n",
       "      <td>-79.382280</td>\n",
       "    </tr>\n",
       "    <tr>\n",
       "      <th>75</th>\n",
       "      <td>35</td>\n",
       "      <td>TO</td>\n",
       "      <td>TO_Downtown Toronto</td>\n",
       "      <td>TO_Underground city</td>\n",
       "      <td>43.648429</td>\n",
       "      <td>-79.382280</td>\n",
       "    </tr>\n",
       "    <tr>\n",
       "      <th>76</th>\n",
       "      <td>36</td>\n",
       "      <td>TO</td>\n",
       "      <td>TO_Downtown Toronto</td>\n",
       "      <td>TO_Church and Wellesley</td>\n",
       "      <td>43.665860</td>\n",
       "      <td>-79.383160</td>\n",
       "    </tr>\n",
       "  </tbody>\n",
       "</table>\n",
       "</div>"
      ],
      "text/plain": [
       "    index City              Borough             Neighborhood   Latitude  \\\n",
       "72     32   TO  TO_Downtown Toronto           TO_Cabbagetown  43.667967   \n",
       "73     33   TO  TO_Downtown Toronto        TO_St. James Town  43.667967   \n",
       "74     34   TO  TO_Downtown Toronto  TO_First Canadian Place  43.648429   \n",
       "75     35   TO  TO_Downtown Toronto      TO_Underground city  43.648429   \n",
       "76     36   TO  TO_Downtown Toronto  TO_Church and Wellesley  43.665860   \n",
       "\n",
       "    Longitude  \n",
       "72 -79.367675  \n",
       "73 -79.367675  \n",
       "74 -79.382280  \n",
       "75 -79.382280  \n",
       "76 -79.383160  "
      ]
     },
     "execution_count": 14,
     "metadata": {},
     "output_type": "execute_result"
    }
   ],
   "source": [
    "neighborhood_data.tail()"
   ]
  },
  {
   "cell_type": "code",
   "execution_count": 15,
   "metadata": {
    "collapsed": false,
    "scrolled": true
   },
   "outputs": [
    {
     "data": {
      "text/plain": [
       "(77, 6)"
      ]
     },
     "execution_count": 15,
     "metadata": {},
     "output_type": "execute_result"
    }
   ],
   "source": [
    "neighborhood_data.shape"
   ]
  },
  {
   "cell_type": "markdown",
   "metadata": {},
   "source": [
    "<a id='item2'></a>"
   ]
  },
  {
   "cell_type": "markdown",
   "metadata": {},
   "source": [
    "<a id='item3'></a>"
   ]
  },
  {
   "cell_type": "markdown",
   "metadata": {},
   "source": [
    "<a id='item4'></a>"
   ]
  },
  {
   "cell_type": "markdown",
   "metadata": {},
   "source": [
    "<a id='item5'></a>"
   ]
  }
 ],
 "metadata": {
  "kernelspec": {
   "display_name": "Python 3",
   "language": "python",
   "name": "python3"
  },
  "language_info": {
   "codemirror_mode": {
    "name": "ipython",
    "version": 3
   },
   "file_extension": ".py",
   "mimetype": "text/x-python",
   "name": "python",
   "nbconvert_exporter": "python",
   "pygments_lexer": "ipython3",
   "version": "3.6.8"
  },
  "widgets": {
   "state": {},
   "version": "1.1.2"
  }
 },
 "nbformat": 4,
 "nbformat_minor": 2
}
