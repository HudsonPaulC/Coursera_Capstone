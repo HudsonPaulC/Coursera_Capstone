﻿{
 "cells": [
  {
   "cell_type": "markdown",
   "metadata": {},
   "source": [
    "# Build The Dataframe"
   ]
  },
  {
   "cell_type": "markdown",
   "metadata": {},
   "source": [
    "## Import the necessary libraries"
   ]
  },
  {
   "cell_type": "code",
   "execution_count": 17,
   "metadata": {},
   "outputs": [],
   "source": [
    "import pandas as pd \n",
    "import requests"
   ]
  },
  {
   "cell_type": "markdown",
   "metadata": {},
   "source": [
    "Now use the requests to get the HTML for the Canada postal codes"
   ]
  },
  {
   "cell_type": "code",
   "execution_count": 18,
   "metadata": {},
   "outputs": [],
   "source": [
    "url = requests.get(\"https://en.wikipedia.org/wiki/List_of_postal_codes_of_Canada:_M\")\n",
    "htmltext = url.text\n",
    "# print(htmltext)"
   ]
  },
  {
   "cell_type": "markdown",
   "metadata": {},
   "source": [
    "Using Beautiful Soup it allows use to find the table that contains the \n",
    "postal code."
   ]
  },
  {
   "cell_type": "code",
   "execution_count": 19,
   "metadata": {},
   "outputs": [],
   "source": [
    "from bs4 import BeautifulSoup\n",
    "import bs4\n",
    "\n",
    "soup = bs4.BeautifulSoup(htmltext, 'lxml')\n",
    "table = soup.find('table','wikitable sortable')\n",
    "#print (table)"
   ]
  },
  {
   "cell_type": "markdown",
   "metadata": {},
   "source": [
    "   Now we need to parse the table into columns and store in the dataframe"
   ]
  },
  {
   "cell_type": "code",
   "execution_count": 20,
   "metadata": {},
   "outputs": [
    {
     "name": "stdout",
     "output_type": "stream",
     "text": [
      "['Postcode', 'Borough', 'Neighbourhood']\n"
     ]
    }
   ],
   "source": [
    "            n_columns = 0\n",
    "            n_rows=0\n",
    "            column_names = []\n",
    "    \n",
    "            # Find number of rows and columns\n",
    "            # we also find the column titles if we can\n",
    "            for row in table.find_all('tr'):\n",
    "                \n",
    "                # Determine the number of rows in the table\n",
    "                td_tags = row.find_all('td')\n",
    "                if len(td_tags) > 0:\n",
    "                    n_rows+=1\n",
    "                    if n_columns == 0:\n",
    "                        # Set the number of columns for our table\n",
    "                        n_columns = len(td_tags)\n",
    "                        \n",
    "                # Handle column names if we find them\n",
    "                th_tags = row.find_all('th') \n",
    "                if len(th_tags) > 0 and len(column_names) == 0:\n",
    "                    for th in th_tags:\n",
    "                        column_names.append(th.get_text().replace('\\n', ''))\n",
    "    \n",
    "            # Safeguard on Column Titles\n",
    "            if len(column_names) > 0 and len(column_names) != n_columns:\n",
    "                raise Exception(\"Column titles do not match the number of columns\")\n",
    "            print (column_names)\n",
    "            columns = column_names if len(column_names) > 0 else range(0,n_columns)\n",
    "            df = pd.DataFrame(columns = columns,\n",
    "                              index= range(0,n_rows))\n",
    "            row_marker = 0\n",
    "            for row in table.find_all('tr'):\n",
    "                column_marker = 0\n",
    "                columns = row.find_all('td')\n",
    "                for column in columns:\n",
    "                    df.iat[row_marker,column_marker] = column.get_text()\n",
    "                    column_marker += 1\n",
    "                if len(columns) > 0:\n",
    "                    row_marker += 1"
   ]
  },
  {
   "cell_type": "markdown",
   "metadata": {},
   "source": [
    "We need to remove the newline in order to get the proper\n",
    "column and data"
   ]
  },
  {
   "cell_type": "code",
   "execution_count": 21,
   "metadata": {},
   "outputs": [],
   "source": [
    "df = df.replace('\\n','', regex=True)"
   ]
  },
  {
   "cell_type": "markdown",
   "metadata": {},
   "source": [
    "Only keep assigned borough names"
   ]
  },
  {
   "cell_type": "code",
   "execution_count": 22,
   "metadata": {},
   "outputs": [],
   "source": [
    "df = df[df.Borough != \"Not assigned\"]"
   ]
  },
  {
   "cell_type": "markdown",
   "metadata": {},
   "source": [
    "Now we group by postal code and borough and comma delimit all of the neighborhoos"
   ]
  },
  {
   "cell_type": "code",
   "execution_count": 23,
   "metadata": {},
   "outputs": [],
   "source": [
    "dfg = df.groupby(['Postcode','Borough'])['Neighbourhood'].agg([('Neighbourhood', ', '.join)]).reset_index()"
   ]
  },
  {
   "cell_type": "markdown",
   "metadata": {},
   "source": [
    "Was able to install Geocode but I could never get it to work properly\n",
    "Using the CSV provided (This takes some time to download)\n",
    "#!conda install -c conda-forge geocoder --yes"
   ]
  },
  {
   "cell_type": "code",
   "execution_count": 24,
   "metadata": {},
   "outputs": [
    {
     "name": "stdout",
     "output_type": "stream",
     "text": [
      "--2019-03-16 14:29:50--  http://cocl.us/Geospatial_data/Geospatial_Coordinates.csv\n",
      "Resolving cocl.us (cocl.us)... 169.48.113.201\n",
      "Connecting to cocl.us (cocl.us)|169.48.113.201|:80... connected.\n",
      "HTTP request sent, awaiting response... 301 Moved Permanently\n",
      "Location: https://cocl.us/Geospatial_data/Geospatial_Coordinates.csv [following]\n",
      "--2019-03-16 14:29:50--  https://cocl.us/Geospatial_data/Geospatial_Coordinates.csv\n",
      "Connecting to cocl.us (cocl.us)|169.48.113.201|:443... connected.\n",
      "HTTP request sent, awaiting response... 301 Moved Permanently\n",
      "Location: https://ibm.box.com/shared/static/9afzr83pps4pwf2smjjcf1y5mvgb18rr.csv [following]\n",
      "--2019-03-16 14:29:52--  https://ibm.box.com/shared/static/9afzr83pps4pwf2smjjcf1y5mvgb18rr.csv\n",
      "Resolving ibm.box.com (ibm.box.com)... 107.152.27.197, 107.152.26.197\n",
      "Connecting to ibm.box.com (ibm.box.com)|107.152.27.197|:443... connected.\n",
      "HTTP request sent, awaiting response... 301 Moved Permanently\n",
      "Location: /public/static/9afzr83pps4pwf2smjjcf1y5mvgb18rr.csv [following]\n",
      "--2019-03-16 14:29:52--  https://ibm.box.com/public/static/9afzr83pps4pwf2smjjcf1y5mvgb18rr.csv\n",
      "Reusing existing connection to ibm.box.com:443.\n",
      "HTTP request sent, awaiting response... 301 Moved Permanently\n",
      "Location: https://ibm.ent.box.com/public/static/9afzr83pps4pwf2smjjcf1y5mvgb18rr.csv [following]\n",
      "--2019-03-16 14:29:52--  https://ibm.ent.box.com/public/static/9afzr83pps4pwf2smjjcf1y5mvgb18rr.csv\n",
      "Resolving ibm.ent.box.com (ibm.ent.box.com)... 107.152.24.211, 107.152.25.211\n",
      "Connecting to ibm.ent.box.com (ibm.ent.box.com)|107.152.24.211|:443... connected.\n",
      "HTTP request sent, awaiting response... 302 Found\n",
      "Location: https://public.boxcloud.com/d/1/b1!nGN93E8ChtlatzKRFunCjOQIX-inDZd3RzGqPP-Oe9MDvhK__AevPrquATSh4xzkSgS3cS00wySlcoxorm1DfAQAVWMi2BGDpASjSUsKrD5ZSr-kjdmXT-gxhgs0PQA39YB50DgLyyRRFatYeef0GTVqaSbAi7gTQvKaz-NXB89Nggzq_SSnwFA8Otq1_bVV9Eby0sIrMkmIftydpxBF8pQ5Dl8y3xaOVT1tLVEPC6PDdUpHXwwtjUtUcgvixbCafYC37PRa4ZRuvtp-RNPptCwFpagZLlhOWtQ6sY6hMWj-AFR-LSsSpM4Ahg5xrAPntDsz0Czv1xSqV3iQovjGPbPAmo05qdwQCh46qZzqBWA4ujW-3anGwP7hskLkDp5pO5jAzscxi8wrGQlL3SSBX0NMYNpw1KtIi-0w6Up0EGkvFQQZBAsZKU6ahYQnCwaue9FVE_wbQ8RNmRsAIDuXoz2R5zXwS3GFE8pwJKEDNxNq728chjhjHp39Iy2qXRf7pI-Z68fLL2Ikw65tRN0T_1tRJzWQYfuJ9rqaL9fCUiTDfgDEDC8ZqTbsUbHcTv6EqtiGB2guXxbQv4j60K-7R4YvOGvGCGOeqAMtRNuq3rSLm0mwq53skUVtEjGFipaucf9oBVSVlB9BJ3i_RPu-Wt7XsVf0W1l_GROf3KCFKqOEYyXZoSQ4Wdz0ekogsoT78vY2jjXgNXDkynhSEtnwixrtzro2TPEpi8o2Ee4MOiYbC2XkGfiRPm2yrZ3QsXfIlZrEqj1pXu9Z5Hf0htdDd9NTBBgi3IlUpDAvomb7ljqhbRIr3uDaDw2dyM9zMFvWLUyr3fhmK2idffwxyVF1WSVe11mfCgMzeruq2IwMLhiI4CYBfCDg1PCPhXQodKe_dlpcKeC9jBtaL_s9WG9GgDC_A-_IXj-_4zbbPLaHkV9jI5jI13Cp18Crf0B4RYxCCuBTMjQGiWtTLDJALGXuSn2nUw_a1gnUBta1DDG-yN8AUaLaTeUZoZspMbV4q5HE8f4w5wNIpfTLqpKtpe5B2a4rj-KgLZJt_aU5rArX78izUDs-gObXev6l39TjrFUhIc7UiY3hWZdgEjy3tA7dxDXD3h5GRdfGoHuY_EkiNoGA0Wo0RPDc1OxNhtTF5puV2ynZ4wEdTM6xpxNfJ2ADpECDyHEpeTcuNtRMwCLTHIU7dMpF4KBbZwa1_fzQI4tQznmn8QnTZ3TGDChtBXNmG_z9XkyxE1TdeTYrCHlYJag0FavCkBcWMyNQUtrJx5WgmKCDEYcu3Q9e4OY4NHJhOOhWOcyl_qz9MP8d4bV1Fs1SeQQ2rGU0rTTMSQQ7kWivldbRyl8j9K3dzxDVH6CwuGR6NG9Y6EXqUNa4eLatNCHskM5JMV_iRckEJh-dB6NkRxBTieDWan9yE8pKNE9KlV14s3QwrRP6xRWO36oi8PefUXIrQwc./download [following]\n",
      "--2019-03-16 14:29:53--  https://public.boxcloud.com/d/1/b1!nGN93E8ChtlatzKRFunCjOQIX-inDZd3RzGqPP-Oe9MDvhK__AevPrquATSh4xzkSgS3cS00wySlcoxorm1DfAQAVWMi2BGDpASjSUsKrD5ZSr-kjdmXT-gxhgs0PQA39YB50DgLyyRRFatYeef0GTVqaSbAi7gTQvKaz-NXB89Nggzq_SSnwFA8Otq1_bVV9Eby0sIrMkmIftydpxBF8pQ5Dl8y3xaOVT1tLVEPC6PDdUpHXwwtjUtUcgvixbCafYC37PRa4ZRuvtp-RNPptCwFpagZLlhOWtQ6sY6hMWj-AFR-LSsSpM4Ahg5xrAPntDsz0Czv1xSqV3iQovjGPbPAmo05qdwQCh46qZzqBWA4ujW-3anGwP7hskLkDp5pO5jAzscxi8wrGQlL3SSBX0NMYNpw1KtIi-0w6Up0EGkvFQQZBAsZKU6ahYQnCwaue9FVE_wbQ8RNmRsAIDuXoz2R5zXwS3GFE8pwJKEDNxNq728chjhjHp39Iy2qXRf7pI-Z68fLL2Ikw65tRN0T_1tRJzWQYfuJ9rqaL9fCUiTDfgDEDC8ZqTbsUbHcTv6EqtiGB2guXxbQv4j60K-7R4YvOGvGCGOeqAMtRNuq3rSLm0mwq53skUVtEjGFipaucf9oBVSVlB9BJ3i_RPu-Wt7XsVf0W1l_GROf3KCFKqOEYyXZoSQ4Wdz0ekogsoT78vY2jjXgNXDkynhSEtnwixrtzro2TPEpi8o2Ee4MOiYbC2XkGfiRPm2yrZ3QsXfIlZrEqj1pXu9Z5Hf0htdDd9NTBBgi3IlUpDAvomb7ljqhbRIr3uDaDw2dyM9zMFvWLUyr3fhmK2idffwxyVF1WSVe11mfCgMzeruq2IwMLhiI4CYBfCDg1PCPhXQodKe_dlpcKeC9jBtaL_s9WG9GgDC_A-_IXj-_4zbbPLaHkV9jI5jI13Cp18Crf0B4RYxCCuBTMjQGiWtTLDJALGXuSn2nUw_a1gnUBta1DDG-yN8AUaLaTeUZoZspMbV4q5HE8f4w5wNIpfTLqpKtpe5B2a4rj-KgLZJt_aU5rArX78izUDs-gObXev6l39TjrFUhIc7UiY3hWZdgEjy3tA7dxDXD3h5GRdfGoHuY_EkiNoGA0Wo0RPDc1OxNhtTF5puV2ynZ4wEdTM6xpxNfJ2ADpECDyHEpeTcuNtRMwCLTHIU7dMpF4KBbZwa1_fzQI4tQznmn8QnTZ3TGDChtBXNmG_z9XkyxE1TdeTYrCHlYJag0FavCkBcWMyNQUtrJx5WgmKCDEYcu3Q9e4OY4NHJhOOhWOcyl_qz9MP8d4bV1Fs1SeQQ2rGU0rTTMSQQ7kWivldbRyl8j9K3dzxDVH6CwuGR6NG9Y6EXqUNa4eLatNCHskM5JMV_iRckEJh-dB6NkRxBTieDWan9yE8pKNE9KlV14s3QwrRP6xRWO36oi8PefUXIrQwc./download\n",
      "Resolving public.boxcloud.com (public.boxcloud.com)... 107.152.25.200, 107.152.24.200\n",
      "Connecting to public.boxcloud.com (public.boxcloud.com)|107.152.25.200|:443... connected.\n",
      "HTTP request sent, awaiting response... 200 OK\n",
      "Length: 2891 (2.8K) [text/csv]\n",
      "Saving to: ‘Geospatial_data.csv’\n",
      "\n",
      "Geospatial_data.csv 100%[=====================>]   2.82K  --.-KB/s   in 0s     \n",
      "\n",
      "2019-03-16 14:29:54 (98.2 MB/s) - ‘Geospatial_data.csv’ saved [2891/2891]\n",
      "\n"
     ]
    }
   ],
   "source": [
    "!wget -O Geospatial_data.csv http://cocl.us/Geospatial_data/Geospatial_Coordinates.csv"
   ]
  },
  {
   "cell_type": "code",
   "execution_count": 25,
   "metadata": {},
   "outputs": [],
   "source": [
    "Geospatial_data_df = pd.read_csv(\"Geospatial_data.csv\")\n"
   ]
  },
  {
   "cell_type": "markdown",
   "metadata": {},
   "source": [
    "Rename Postal Code to be the same as the DFG since it makes the merge easier to read"
   ]
  },
  {
   "cell_type": "code",
   "execution_count": 26,
   "metadata": {},
   "outputs": [],
   "source": [
    "Geospatial_data_df.rename(columns={'Postal Code': 'Postcode'}, inplace=True)"
   ]
  },
  {
   "cell_type": "code",
   "execution_count": 27,
   "metadata": {},
   "outputs": [],
   "source": [
    "df3 = pd.merge(dfg, Geospatial_data_df, on='Postcode')"
   ]
  },
  {
   "cell_type": "code",
   "execution_count": 28,
   "metadata": {},
   "outputs": [
    {
     "data": {
      "text/html": [
       "<div>\n",
       "<style scoped>\n",
       "    .dataframe tbody tr th:only-of-type {\n",
       "        vertical-align: middle;\n",
       "    }\n",
       "\n",
       "    .dataframe tbody tr th {\n",
       "        vertical-align: top;\n",
       "    }\n",
       "\n",
       "    .dataframe thead th {\n",
       "        text-align: right;\n",
       "    }\n",
       "</style>\n",
       "<table border=\"1\" class=\"dataframe\">\n",
       "  <thead>\n",
       "    <tr style=\"text-align: right;\">\n",
       "      <th></th>\n",
       "      <th>Postcode</th>\n",
       "      <th>Borough</th>\n",
       "      <th>Neighbourhood</th>\n",
       "      <th>Latitude</th>\n",
       "      <th>Longitude</th>\n",
       "    </tr>\n",
       "  </thead>\n",
       "  <tbody>\n",
       "    <tr>\n",
       "      <th>0</th>\n",
       "      <td>M1B</td>\n",
       "      <td>Scarborough</td>\n",
       "      <td>Rouge, Malvern</td>\n",
       "      <td>43.806686</td>\n",
       "      <td>-79.194353</td>\n",
       "    </tr>\n",
       "    <tr>\n",
       "      <th>1</th>\n",
       "      <td>M1C</td>\n",
       "      <td>Scarborough</td>\n",
       "      <td>Highland Creek, Rouge Hill, Port Union</td>\n",
       "      <td>43.784535</td>\n",
       "      <td>-79.160497</td>\n",
       "    </tr>\n",
       "    <tr>\n",
       "      <th>2</th>\n",
       "      <td>M1E</td>\n",
       "      <td>Scarborough</td>\n",
       "      <td>Guildwood, Morningside, West Hill</td>\n",
       "      <td>43.763573</td>\n",
       "      <td>-79.188711</td>\n",
       "    </tr>\n",
       "    <tr>\n",
       "      <th>3</th>\n",
       "      <td>M1G</td>\n",
       "      <td>Scarborough</td>\n",
       "      <td>Woburn</td>\n",
       "      <td>43.770992</td>\n",
       "      <td>-79.216917</td>\n",
       "    </tr>\n",
       "    <tr>\n",
       "      <th>4</th>\n",
       "      <td>M1H</td>\n",
       "      <td>Scarborough</td>\n",
       "      <td>Cedarbrae</td>\n",
       "      <td>43.773136</td>\n",
       "      <td>-79.239476</td>\n",
       "    </tr>\n",
       "  </tbody>\n",
       "</table>\n",
       "</div>"
      ],
      "text/plain": [
       "  Postcode      Borough                           Neighbourhood   Latitude  \\\n",
       "0      M1B  Scarborough                          Rouge, Malvern  43.806686   \n",
       "1      M1C  Scarborough  Highland Creek, Rouge Hill, Port Union  43.784535   \n",
       "2      M1E  Scarborough       Guildwood, Morningside, West Hill  43.763573   \n",
       "3      M1G  Scarborough                                  Woburn  43.770992   \n",
       "4      M1H  Scarborough                               Cedarbrae  43.773136   \n",
       "\n",
       "   Longitude  \n",
       "0 -79.194353  \n",
       "1 -79.160497  \n",
       "2 -79.188711  \n",
       "3 -79.216917  \n",
       "4 -79.239476  "
      ]
     },
     "execution_count": 28,
     "metadata": {},
     "output_type": "execute_result"
    }
   ],
   "source": [
    "df3.head()"
   ]
  },
  {
   "cell_type": "code",
   "execution_count": null,
   "metadata": {},
   "outputs": [],
   "source": []
  }
 ],
 "metadata": {
  "kernelspec": {
   "display_name": "Python 3",
   "language": "python",
   "name": "python3"
  },
  "language_info": {
   "codemirror_mode": {
    "name": "ipython",
    "version": 3
   },
   "file_extension": ".py",
   "mimetype": "text/x-python",
   "name": "python",
   "nbconvert_exporter": "python",
   "pygments_lexer": "ipython3",
   "version": "3.6.8"
  }
 },
 "nbformat": 4,
 "nbformat_minor": 2
}
